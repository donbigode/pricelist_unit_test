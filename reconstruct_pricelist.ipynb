{
 "cells": [
  {
   "cell_type": "code",
   "execution_count": 1,
   "metadata": {},
   "outputs": [],
   "source": [
    "import os\n",
    "import pandas as pd\n",
    "import openpyxl\n",
    "import numpy as np\n",
    "from datetime import date, datetime, timedelta\n",
    "from pandas.core.reshape.concat import concat\n",
    "import glob2\n",
    "import glob\n",
    "import random\n",
    "import ntpath\n",
    "import itertools\n"
   ]
  },
  {
   "cell_type": "code",
   "execution_count": 2,
   "metadata": {},
   "outputs": [],
   "source": [
    "file_path = 'C:\\\\Users\\\\orochage\\\\pricelist'"
   ]
  },
  {
   "cell_type": "markdown",
   "metadata": {},
   "source": [
    "### Estudo: Reconstruindo os arquivos divididos inicialmente pela Macro"
   ]
  },
  {
   "cell_type": "code",
   "execution_count": 3,
   "metadata": {},
   "outputs": [],
   "source": [
    "def append_dados_preco(path):\n",
    "    df_consolidador = pd.DataFrame()\n",
    "    now = datetime.now()\n",
    "    os.chdir(path)\n",
    "\n",
    "    for base_ext in glob.glob(\"*.csv\"):\n",
    "        df_check = pd.read_csv(base_ext, sep=';', encoding='latin-1', header=0, index_col=0)\n",
    "        df_consolidador = df_consolidador.append(df_check, ignore_index=True)\n",
    "        print(base_ext)\n",
    "        print(\"Tabela Consolidada com tamanho final: {0}\".format(\n",
    "            len(df_consolidador)))\n",
    "    df_consolidador.to_csv(\"reconstruido/pricelist_reconstruída_{0}.csv\" .format(\n",
    "        now.strftime(\"%d%m%Y\")))\n",
    "    print('Finalizada a consolidação.\\n')\n"
   ]
  },
  {
   "cell_type": "code",
   "execution_count": 4,
   "metadata": {},
   "outputs": [
    {
     "name": "stderr",
     "output_type": "stream",
     "text": [
      "C:\\Users\\orochage\\AppData\\Local\\Temp\\1\\ipykernel_17852\\962739780.py:8: FutureWarning: The frame.append method is deprecated and will be removed from pandas in a future version. Use pandas.concat instead.\n",
      "  df_consolidador = df_consolidador.append(df_check, ignore_index=True)\n"
     ]
    },
    {
     "name": "stdout",
     "output_type": "stream",
     "text": [
      "BR01_10_10_lista_20220903_211448.csv\n",
      "Tabela Consolidada com tamanho final: 15840\n"
     ]
    },
    {
     "name": "stderr",
     "output_type": "stream",
     "text": [
      "C:\\Users\\orochage\\AppData\\Local\\Temp\\1\\ipykernel_17852\\962739780.py:8: FutureWarning: The frame.append method is deprecated and will be removed from pandas in a future version. Use pandas.concat instead.\n",
      "  df_consolidador = df_consolidador.append(df_check, ignore_index=True)\n"
     ]
    },
    {
     "name": "stdout",
     "output_type": "stream",
     "text": [
      "BR01_10_10_lista_20220903_212543.csv\n",
      "Tabela Consolidada com tamanho final: 33504\n"
     ]
    },
    {
     "name": "stderr",
     "output_type": "stream",
     "text": [
      "C:\\Users\\orochage\\AppData\\Local\\Temp\\1\\ipykernel_17852\\962739780.py:8: FutureWarning: The frame.append method is deprecated and will be removed from pandas in a future version. Use pandas.concat instead.\n",
      "  df_consolidador = df_consolidador.append(df_check, ignore_index=True)\n"
     ]
    },
    {
     "name": "stdout",
     "output_type": "stream",
     "text": [
      "BR01_10_10_lista_20220903_213709.csv\n",
      "Tabela Consolidada com tamanho final: 51168\n"
     ]
    },
    {
     "name": "stderr",
     "output_type": "stream",
     "text": [
      "C:\\Users\\orochage\\AppData\\Local\\Temp\\1\\ipykernel_17852\\962739780.py:8: FutureWarning: The frame.append method is deprecated and will be removed from pandas in a future version. Use pandas.concat instead.\n",
      "  df_consolidador = df_consolidador.append(df_check, ignore_index=True)\n"
     ]
    },
    {
     "name": "stdout",
     "output_type": "stream",
     "text": [
      "BR01_10_10_lista_20220903_214844.csv\n",
      "Tabela Consolidada com tamanho final: 69438\n"
     ]
    },
    {
     "name": "stderr",
     "output_type": "stream",
     "text": [
      "C:\\Users\\orochage\\AppData\\Local\\Temp\\1\\ipykernel_17852\\962739780.py:8: FutureWarning: The frame.append method is deprecated and will be removed from pandas in a future version. Use pandas.concat instead.\n",
      "  df_consolidador = df_consolidador.append(df_check, ignore_index=True)\n"
     ]
    },
    {
     "name": "stdout",
     "output_type": "stream",
     "text": [
      "BR01_10_10_lista_20220903_215956.csv\n",
      "Tabela Consolidada com tamanho final: 87708\n"
     ]
    },
    {
     "name": "stderr",
     "output_type": "stream",
     "text": [
      "C:\\Users\\orochage\\AppData\\Local\\Temp\\1\\ipykernel_17852\\962739780.py:8: FutureWarning: The frame.append method is deprecated and will be removed from pandas in a future version. Use pandas.concat instead.\n",
      "  df_consolidador = df_consolidador.append(df_check, ignore_index=True)\n"
     ]
    },
    {
     "name": "stdout",
     "output_type": "stream",
     "text": [
      "BR01_10_10_lista_20220903_221135.csv\n",
      "Tabela Consolidada com tamanho final: 105978\n"
     ]
    },
    {
     "name": "stderr",
     "output_type": "stream",
     "text": [
      "C:\\Users\\orochage\\AppData\\Local\\Temp\\1\\ipykernel_17852\\962739780.py:8: FutureWarning: The frame.append method is deprecated and will be removed from pandas in a future version. Use pandas.concat instead.\n",
      "  df_consolidador = df_consolidador.append(df_check, ignore_index=True)\n"
     ]
    },
    {
     "name": "stdout",
     "output_type": "stream",
     "text": [
      "BR01_10_10_lista_20220903_222324.csv\n",
      "Tabela Consolidada com tamanho final: 124248\n"
     ]
    },
    {
     "name": "stderr",
     "output_type": "stream",
     "text": [
      "C:\\Users\\orochage\\AppData\\Local\\Temp\\1\\ipykernel_17852\\962739780.py:8: FutureWarning: The frame.append method is deprecated and will be removed from pandas in a future version. Use pandas.concat instead.\n",
      "  df_consolidador = df_consolidador.append(df_check, ignore_index=True)\n"
     ]
    },
    {
     "name": "stdout",
     "output_type": "stream",
     "text": [
      "BR01_10_10_lista_20220903_223433.csv\n",
      "Tabela Consolidada com tamanho final: 142518\n"
     ]
    },
    {
     "name": "stderr",
     "output_type": "stream",
     "text": [
      "C:\\Users\\orochage\\AppData\\Local\\Temp\\1\\ipykernel_17852\\962739780.py:8: FutureWarning: The frame.append method is deprecated and will be removed from pandas in a future version. Use pandas.concat instead.\n",
      "  df_consolidador = df_consolidador.append(df_check, ignore_index=True)\n"
     ]
    },
    {
     "name": "stdout",
     "output_type": "stream",
     "text": [
      "BR01_10_10_lista_20220903_224535.csv\n",
      "Tabela Consolidada com tamanho final: 160788\n"
     ]
    },
    {
     "name": "stderr",
     "output_type": "stream",
     "text": [
      "C:\\Users\\orochage\\AppData\\Local\\Temp\\1\\ipykernel_17852\\962739780.py:8: FutureWarning: The frame.append method is deprecated and will be removed from pandas in a future version. Use pandas.concat instead.\n",
      "  df_consolidador = df_consolidador.append(df_check, ignore_index=True)\n"
     ]
    },
    {
     "name": "stdout",
     "output_type": "stream",
     "text": [
      "BR01_10_10_lista_20220903_225614.csv\n",
      "Tabela Consolidada com tamanho final: 179058\n"
     ]
    },
    {
     "name": "stderr",
     "output_type": "stream",
     "text": [
      "C:\\Users\\orochage\\AppData\\Local\\Temp\\1\\ipykernel_17852\\962739780.py:8: FutureWarning: The frame.append method is deprecated and will be removed from pandas in a future version. Use pandas.concat instead.\n",
      "  df_consolidador = df_consolidador.append(df_check, ignore_index=True)\n"
     ]
    },
    {
     "name": "stdout",
     "output_type": "stream",
     "text": [
      "BR01_10_10_lista_20220903_230721.csv\n",
      "Tabela Consolidada com tamanho final: 197328\n"
     ]
    },
    {
     "name": "stderr",
     "output_type": "stream",
     "text": [
      "C:\\Users\\orochage\\AppData\\Local\\Temp\\1\\ipykernel_17852\\962739780.py:8: FutureWarning: The frame.append method is deprecated and will be removed from pandas in a future version. Use pandas.concat instead.\n",
      "  df_consolidador = df_consolidador.append(df_check, ignore_index=True)\n"
     ]
    },
    {
     "name": "stdout",
     "output_type": "stream",
     "text": [
      "BR01_10_10_lista_20220903_231928.csv\n",
      "Tabela Consolidada com tamanho final: 215598\n"
     ]
    },
    {
     "name": "stderr",
     "output_type": "stream",
     "text": [
      "C:\\Users\\orochage\\AppData\\Local\\Temp\\1\\ipykernel_17852\\962739780.py:8: FutureWarning: The frame.append method is deprecated and will be removed from pandas in a future version. Use pandas.concat instead.\n",
      "  df_consolidador = df_consolidador.append(df_check, ignore_index=True)\n"
     ]
    },
    {
     "name": "stdout",
     "output_type": "stream",
     "text": [
      "BR01_10_10_lista_20220903_233116.csv\n",
      "Tabela Consolidada com tamanho final: 233868\n"
     ]
    },
    {
     "name": "stderr",
     "output_type": "stream",
     "text": [
      "C:\\Users\\orochage\\AppData\\Local\\Temp\\1\\ipykernel_17852\\962739780.py:8: FutureWarning: The frame.append method is deprecated and will be removed from pandas in a future version. Use pandas.concat instead.\n",
      "  df_consolidador = df_consolidador.append(df_check, ignore_index=True)\n"
     ]
    },
    {
     "name": "stdout",
     "output_type": "stream",
     "text": [
      "BR01_10_10_lista_20220903_234237.csv\n",
      "Tabela Consolidada com tamanho final: 252138\n"
     ]
    },
    {
     "name": "stderr",
     "output_type": "stream",
     "text": [
      "C:\\Users\\orochage\\AppData\\Local\\Temp\\1\\ipykernel_17852\\962739780.py:8: FutureWarning: The frame.append method is deprecated and will be removed from pandas in a future version. Use pandas.concat instead.\n",
      "  df_consolidador = df_consolidador.append(df_check, ignore_index=True)\n"
     ]
    },
    {
     "name": "stdout",
     "output_type": "stream",
     "text": [
      "BR01_10_10_lista_20220903_235417.csv\n",
      "Tabela Consolidada com tamanho final: 270408\n"
     ]
    },
    {
     "name": "stderr",
     "output_type": "stream",
     "text": [
      "C:\\Users\\orochage\\AppData\\Local\\Temp\\1\\ipykernel_17852\\962739780.py:8: FutureWarning: The frame.append method is deprecated and will be removed from pandas in a future version. Use pandas.concat instead.\n",
      "  df_consolidador = df_consolidador.append(df_check, ignore_index=True)\n"
     ]
    },
    {
     "name": "stdout",
     "output_type": "stream",
     "text": [
      "BR01_10_10_lista_20220904_000553.csv\n",
      "Tabela Consolidada com tamanho final: 288678\n"
     ]
    },
    {
     "name": "stderr",
     "output_type": "stream",
     "text": [
      "C:\\Users\\orochage\\AppData\\Local\\Temp\\1\\ipykernel_17852\\962739780.py:8: FutureWarning: The frame.append method is deprecated and will be removed from pandas in a future version. Use pandas.concat instead.\n",
      "  df_consolidador = df_consolidador.append(df_check, ignore_index=True)\n"
     ]
    },
    {
     "name": "stdout",
     "output_type": "stream",
     "text": [
      "BR01_10_10_lista_20220904_004202.csv\n",
      "Tabela Consolidada com tamanho final: 306948\n"
     ]
    },
    {
     "name": "stderr",
     "output_type": "stream",
     "text": [
      "C:\\Users\\orochage\\AppData\\Local\\Temp\\1\\ipykernel_17852\\962739780.py:8: FutureWarning: The frame.append method is deprecated and will be removed from pandas in a future version. Use pandas.concat instead.\n",
      "  df_consolidador = df_consolidador.append(df_check, ignore_index=True)\n"
     ]
    },
    {
     "name": "stdout",
     "output_type": "stream",
     "text": [
      "BR01_10_10_lista_20220904_005514.csv\n",
      "Tabela Consolidada com tamanho final: 325218\n"
     ]
    },
    {
     "name": "stderr",
     "output_type": "stream",
     "text": [
      "C:\\Users\\orochage\\AppData\\Local\\Temp\\1\\ipykernel_17852\\962739780.py:8: FutureWarning: The frame.append method is deprecated and will be removed from pandas in a future version. Use pandas.concat instead.\n",
      "  df_consolidador = df_consolidador.append(df_check, ignore_index=True)\n"
     ]
    },
    {
     "name": "stdout",
     "output_type": "stream",
     "text": [
      "BR01_10_10_lista_20220904_010932.csv\n",
      "Tabela Consolidada com tamanho final: 343488\n"
     ]
    },
    {
     "name": "stderr",
     "output_type": "stream",
     "text": [
      "C:\\Users\\orochage\\AppData\\Local\\Temp\\1\\ipykernel_17852\\962739780.py:8: FutureWarning: The frame.append method is deprecated and will be removed from pandas in a future version. Use pandas.concat instead.\n",
      "  df_consolidador = df_consolidador.append(df_check, ignore_index=True)\n"
     ]
    },
    {
     "name": "stdout",
     "output_type": "stream",
     "text": [
      "BR01_10_10_lista_20220904_014403.csv\n",
      "Tabela Consolidada com tamanho final: 361758\n"
     ]
    },
    {
     "name": "stderr",
     "output_type": "stream",
     "text": [
      "C:\\Users\\orochage\\AppData\\Local\\Temp\\1\\ipykernel_17852\\962739780.py:8: FutureWarning: The frame.append method is deprecated and will be removed from pandas in a future version. Use pandas.concat instead.\n",
      "  df_consolidador = df_consolidador.append(df_check, ignore_index=True)\n"
     ]
    },
    {
     "name": "stdout",
     "output_type": "stream",
     "text": [
      "BR01_10_10_lista_20220904_022006.csv\n",
      "Tabela Consolidada com tamanho final: 380028\n"
     ]
    },
    {
     "name": "stderr",
     "output_type": "stream",
     "text": [
      "C:\\Users\\orochage\\AppData\\Local\\Temp\\1\\ipykernel_17852\\962739780.py:8: FutureWarning: The frame.append method is deprecated and will be removed from pandas in a future version. Use pandas.concat instead.\n",
      "  df_consolidador = df_consolidador.append(df_check, ignore_index=True)\n"
     ]
    },
    {
     "name": "stdout",
     "output_type": "stream",
     "text": [
      "BR01_10_10_lista_20220904_025350.csv\n",
      "Tabela Consolidada com tamanho final: 398298\n"
     ]
    },
    {
     "name": "stderr",
     "output_type": "stream",
     "text": [
      "C:\\Users\\orochage\\AppData\\Local\\Temp\\1\\ipykernel_17852\\962739780.py:8: FutureWarning: The frame.append method is deprecated and will be removed from pandas in a future version. Use pandas.concat instead.\n",
      "  df_consolidador = df_consolidador.append(df_check, ignore_index=True)\n"
     ]
    },
    {
     "name": "stdout",
     "output_type": "stream",
     "text": [
      "BR01_10_10_lista_20220904_032509.csv\n",
      "Tabela Consolidada com tamanho final: 416568\n"
     ]
    },
    {
     "name": "stderr",
     "output_type": "stream",
     "text": [
      "C:\\Users\\orochage\\AppData\\Local\\Temp\\1\\ipykernel_17852\\962739780.py:8: FutureWarning: The frame.append method is deprecated and will be removed from pandas in a future version. Use pandas.concat instead.\n",
      "  df_consolidador = df_consolidador.append(df_check, ignore_index=True)\n"
     ]
    },
    {
     "name": "stdout",
     "output_type": "stream",
     "text": [
      "BR01_10_10_lista_20220904_035250.csv\n",
      "Tabela Consolidada com tamanho final: 434838\n"
     ]
    },
    {
     "name": "stderr",
     "output_type": "stream",
     "text": [
      "C:\\Users\\orochage\\AppData\\Local\\Temp\\1\\ipykernel_17852\\962739780.py:8: FutureWarning: The frame.append method is deprecated and will be removed from pandas in a future version. Use pandas.concat instead.\n",
      "  df_consolidador = df_consolidador.append(df_check, ignore_index=True)\n"
     ]
    },
    {
     "name": "stdout",
     "output_type": "stream",
     "text": [
      "BR01_10_10_lista_20220904_035417.csv\n",
      "Tabela Consolidada com tamanho final: 436056\n"
     ]
    },
    {
     "name": "stderr",
     "output_type": "stream",
     "text": [
      "C:\\Users\\orochage\\AppData\\Local\\Temp\\1\\ipykernel_17852\\962739780.py:8: FutureWarning: The frame.append method is deprecated and will be removed from pandas in a future version. Use pandas.concat instead.\n",
      "  df_consolidador = df_consolidador.append(df_check, ignore_index=True)\n"
     ]
    },
    {
     "name": "stdout",
     "output_type": "stream",
     "text": [
      "BR01_11_10_lista_20220904_042325.csv\n",
      "Tabela Consolidada com tamanho final: 453543\n"
     ]
    },
    {
     "name": "stderr",
     "output_type": "stream",
     "text": [
      "C:\\Users\\orochage\\AppData\\Local\\Temp\\1\\ipykernel_17852\\962739780.py:8: FutureWarning: The frame.append method is deprecated and will be removed from pandas in a future version. Use pandas.concat instead.\n",
      "  df_consolidador = df_consolidador.append(df_check, ignore_index=True)\n"
     ]
    },
    {
     "name": "stdout",
     "output_type": "stream",
     "text": [
      "BR01_11_10_lista_20220904_045250.csv\n",
      "Tabela Consolidada com tamanho final: 471633\n"
     ]
    },
    {
     "name": "stderr",
     "output_type": "stream",
     "text": [
      "C:\\Users\\orochage\\AppData\\Local\\Temp\\1\\ipykernel_17852\\962739780.py:8: FutureWarning: The frame.append method is deprecated and will be removed from pandas in a future version. Use pandas.concat instead.\n",
      "  df_consolidador = df_consolidador.append(df_check, ignore_index=True)\n"
     ]
    },
    {
     "name": "stdout",
     "output_type": "stream",
     "text": [
      "BR01_11_10_lista_20220904_052333.csv\n",
      "Tabela Consolidada com tamanho final: 489723\n"
     ]
    },
    {
     "name": "stderr",
     "output_type": "stream",
     "text": [
      "C:\\Users\\orochage\\AppData\\Local\\Temp\\1\\ipykernel_17852\\962739780.py:8: FutureWarning: The frame.append method is deprecated and will be removed from pandas in a future version. Use pandas.concat instead.\n",
      "  df_consolidador = df_consolidador.append(df_check, ignore_index=True)\n"
     ]
    },
    {
     "name": "stdout",
     "output_type": "stream",
     "text": [
      "BR01_11_10_lista_20220904_055226.csv\n",
      "Tabela Consolidada com tamanho final: 507813\n"
     ]
    },
    {
     "name": "stderr",
     "output_type": "stream",
     "text": [
      "C:\\Users\\orochage\\AppData\\Local\\Temp\\1\\ipykernel_17852\\962739780.py:8: FutureWarning: The frame.append method is deprecated and will be removed from pandas in a future version. Use pandas.concat instead.\n",
      "  df_consolidador = df_consolidador.append(df_check, ignore_index=True)\n"
     ]
    },
    {
     "name": "stdout",
     "output_type": "stream",
     "text": [
      "BR01_11_10_lista_20220904_061909.csv\n",
      "Tabela Consolidada com tamanho final: 525303\n"
     ]
    },
    {
     "name": "stderr",
     "output_type": "stream",
     "text": [
      "C:\\Users\\orochage\\AppData\\Local\\Temp\\1\\ipykernel_17852\\962739780.py:8: FutureWarning: The frame.append method is deprecated and will be removed from pandas in a future version. Use pandas.concat instead.\n",
      "  df_consolidador = df_consolidador.append(df_check, ignore_index=True)\n"
     ]
    },
    {
     "name": "stdout",
     "output_type": "stream",
     "text": [
      "BR01_11_10_lista_20220904_064935.csv\n",
      "Tabela Consolidada com tamanho final: 543393\n"
     ]
    },
    {
     "name": "stderr",
     "output_type": "stream",
     "text": [
      "C:\\Users\\orochage\\AppData\\Local\\Temp\\1\\ipykernel_17852\\962739780.py:8: FutureWarning: The frame.append method is deprecated and will be removed from pandas in a future version. Use pandas.concat instead.\n",
      "  df_consolidador = df_consolidador.append(df_check, ignore_index=True)\n"
     ]
    },
    {
     "name": "stdout",
     "output_type": "stream",
     "text": [
      "BR01_11_10_lista_20220904_073045.csv\n",
      "Tabela Consolidada com tamanho final: 561483\n"
     ]
    },
    {
     "name": "stderr",
     "output_type": "stream",
     "text": [
      "C:\\Users\\orochage\\AppData\\Local\\Temp\\1\\ipykernel_17852\\962739780.py:8: FutureWarning: The frame.append method is deprecated and will be removed from pandas in a future version. Use pandas.concat instead.\n",
      "  df_consolidador = df_consolidador.append(df_check, ignore_index=True)\n"
     ]
    },
    {
     "name": "stdout",
     "output_type": "stream",
     "text": [
      "BR01_11_10_lista_20220904_080518.csv\n",
      "Tabela Consolidada com tamanho final: 579573\n"
     ]
    },
    {
     "name": "stderr",
     "output_type": "stream",
     "text": [
      "C:\\Users\\orochage\\AppData\\Local\\Temp\\1\\ipykernel_17852\\962739780.py:8: FutureWarning: The frame.append method is deprecated and will be removed from pandas in a future version. Use pandas.concat instead.\n",
      "  df_consolidador = df_consolidador.append(df_check, ignore_index=True)\n"
     ]
    },
    {
     "name": "stdout",
     "output_type": "stream",
     "text": [
      "BR01_11_10_lista_20220904_082056.csv\n",
      "Tabela Consolidada com tamanho final: 597663\n"
     ]
    },
    {
     "name": "stderr",
     "output_type": "stream",
     "text": [
      "C:\\Users\\orochage\\AppData\\Local\\Temp\\1\\ipykernel_17852\\962739780.py:8: FutureWarning: The frame.append method is deprecated and will be removed from pandas in a future version. Use pandas.concat instead.\n",
      "  df_consolidador = df_consolidador.append(df_check, ignore_index=True)\n"
     ]
    },
    {
     "name": "stdout",
     "output_type": "stream",
     "text": [
      "BR01_11_10_lista_20220904_083621.csv\n",
      "Tabela Consolidada com tamanho final: 615753\n"
     ]
    },
    {
     "name": "stderr",
     "output_type": "stream",
     "text": [
      "C:\\Users\\orochage\\AppData\\Local\\Temp\\1\\ipykernel_17852\\962739780.py:8: FutureWarning: The frame.append method is deprecated and will be removed from pandas in a future version. Use pandas.concat instead.\n",
      "  df_consolidador = df_consolidador.append(df_check, ignore_index=True)\n"
     ]
    },
    {
     "name": "stdout",
     "output_type": "stream",
     "text": [
      "BR01_11_10_lista_20220904_085001.csv\n",
      "Tabela Consolidada com tamanho final: 633843\n"
     ]
    },
    {
     "name": "stderr",
     "output_type": "stream",
     "text": [
      "C:\\Users\\orochage\\AppData\\Local\\Temp\\1\\ipykernel_17852\\962739780.py:8: FutureWarning: The frame.append method is deprecated and will be removed from pandas in a future version. Use pandas.concat instead.\n",
      "  df_consolidador = df_consolidador.append(df_check, ignore_index=True)\n"
     ]
    },
    {
     "name": "stdout",
     "output_type": "stream",
     "text": [
      "BR01_11_10_lista_20220904_090444.csv\n",
      "Tabela Consolidada com tamanho final: 651933\n"
     ]
    },
    {
     "name": "stderr",
     "output_type": "stream",
     "text": [
      "C:\\Users\\orochage\\AppData\\Local\\Temp\\1\\ipykernel_17852\\962739780.py:8: FutureWarning: The frame.append method is deprecated and will be removed from pandas in a future version. Use pandas.concat instead.\n",
      "  df_consolidador = df_consolidador.append(df_check, ignore_index=True)\n"
     ]
    },
    {
     "name": "stdout",
     "output_type": "stream",
     "text": [
      "BR01_11_10_lista_20220904_092412.csv\n",
      "Tabela Consolidada com tamanho final: 670023\n"
     ]
    },
    {
     "name": "stderr",
     "output_type": "stream",
     "text": [
      "C:\\Users\\orochage\\AppData\\Local\\Temp\\1\\ipykernel_17852\\962739780.py:8: FutureWarning: The frame.append method is deprecated and will be removed from pandas in a future version. Use pandas.concat instead.\n",
      "  df_consolidador = df_consolidador.append(df_check, ignore_index=True)\n"
     ]
    },
    {
     "name": "stdout",
     "output_type": "stream",
     "text": [
      "BR01_11_10_lista_20220904_093935.csv\n",
      "Tabela Consolidada com tamanho final: 688113\n"
     ]
    },
    {
     "name": "stderr",
     "output_type": "stream",
     "text": [
      "C:\\Users\\orochage\\AppData\\Local\\Temp\\1\\ipykernel_17852\\962739780.py:8: FutureWarning: The frame.append method is deprecated and will be removed from pandas in a future version. Use pandas.concat instead.\n",
      "  df_consolidador = df_consolidador.append(df_check, ignore_index=True)\n"
     ]
    },
    {
     "name": "stdout",
     "output_type": "stream",
     "text": [
      "BR01_11_10_lista_20220904_095236.csv\n",
      "Tabela Consolidada com tamanho final: 706203\n"
     ]
    },
    {
     "name": "stderr",
     "output_type": "stream",
     "text": [
      "C:\\Users\\orochage\\AppData\\Local\\Temp\\1\\ipykernel_17852\\962739780.py:8: FutureWarning: The frame.append method is deprecated and will be removed from pandas in a future version. Use pandas.concat instead.\n",
      "  df_consolidador = df_consolidador.append(df_check, ignore_index=True)\n"
     ]
    },
    {
     "name": "stdout",
     "output_type": "stream",
     "text": [
      "BR01_11_10_lista_20220904_100616.csv\n",
      "Tabela Consolidada com tamanho final: 724293\n"
     ]
    },
    {
     "name": "stderr",
     "output_type": "stream",
     "text": [
      "C:\\Users\\orochage\\AppData\\Local\\Temp\\1\\ipykernel_17852\\962739780.py:8: FutureWarning: The frame.append method is deprecated and will be removed from pandas in a future version. Use pandas.concat instead.\n",
      "  df_consolidador = df_consolidador.append(df_check, ignore_index=True)\n"
     ]
    },
    {
     "name": "stdout",
     "output_type": "stream",
     "text": [
      "BR01_11_10_lista_20220904_101720.csv\n",
      "Tabela Consolidada com tamanho final: 742383\n"
     ]
    },
    {
     "name": "stderr",
     "output_type": "stream",
     "text": [
      "C:\\Users\\orochage\\AppData\\Local\\Temp\\1\\ipykernel_17852\\962739780.py:8: FutureWarning: The frame.append method is deprecated and will be removed from pandas in a future version. Use pandas.concat instead.\n",
      "  df_consolidador = df_consolidador.append(df_check, ignore_index=True)\n"
     ]
    },
    {
     "name": "stdout",
     "output_type": "stream",
     "text": [
      "BR01_11_10_lista_20220904_102840.csv\n",
      "Tabela Consolidada com tamanho final: 760473\n"
     ]
    },
    {
     "name": "stderr",
     "output_type": "stream",
     "text": [
      "C:\\Users\\orochage\\AppData\\Local\\Temp\\1\\ipykernel_17852\\962739780.py:8: FutureWarning: The frame.append method is deprecated and will be removed from pandas in a future version. Use pandas.concat instead.\n",
      "  df_consolidador = df_consolidador.append(df_check, ignore_index=True)\n"
     ]
    },
    {
     "name": "stdout",
     "output_type": "stream",
     "text": [
      "BR01_11_10_lista_20220904_103957.csv\n",
      "Tabela Consolidada com tamanho final: 778563\n"
     ]
    },
    {
     "name": "stderr",
     "output_type": "stream",
     "text": [
      "C:\\Users\\orochage\\AppData\\Local\\Temp\\1\\ipykernel_17852\\962739780.py:8: FutureWarning: The frame.append method is deprecated and will be removed from pandas in a future version. Use pandas.concat instead.\n",
      "  df_consolidador = df_consolidador.append(df_check, ignore_index=True)\n"
     ]
    },
    {
     "name": "stdout",
     "output_type": "stream",
     "text": [
      "BR01_11_10_lista_20220904_105120.csv\n",
      "Tabela Consolidada com tamanho final: 796653\n"
     ]
    },
    {
     "name": "stderr",
     "output_type": "stream",
     "text": [
      "C:\\Users\\orochage\\AppData\\Local\\Temp\\1\\ipykernel_17852\\962739780.py:8: FutureWarning: The frame.append method is deprecated and will be removed from pandas in a future version. Use pandas.concat instead.\n",
      "  df_consolidador = df_consolidador.append(df_check, ignore_index=True)\n"
     ]
    },
    {
     "name": "stdout",
     "output_type": "stream",
     "text": [
      "BR01_11_10_lista_20220904_110310.csv\n",
      "Tabela Consolidada com tamanho final: 814743\n"
     ]
    },
    {
     "name": "stderr",
     "output_type": "stream",
     "text": [
      "C:\\Users\\orochage\\AppData\\Local\\Temp\\1\\ipykernel_17852\\962739780.py:8: FutureWarning: The frame.append method is deprecated and will be removed from pandas in a future version. Use pandas.concat instead.\n",
      "  df_consolidador = df_consolidador.append(df_check, ignore_index=True)\n"
     ]
    },
    {
     "name": "stdout",
     "output_type": "stream",
     "text": [
      "BR01_11_10_lista_20220904_111534.csv\n",
      "Tabela Consolidada com tamanho final: 832833\n"
     ]
    },
    {
     "name": "stderr",
     "output_type": "stream",
     "text": [
      "C:\\Users\\orochage\\AppData\\Local\\Temp\\1\\ipykernel_17852\\962739780.py:8: FutureWarning: The frame.append method is deprecated and will be removed from pandas in a future version. Use pandas.concat instead.\n",
      "  df_consolidador = df_consolidador.append(df_check, ignore_index=True)\n"
     ]
    },
    {
     "name": "stdout",
     "output_type": "stream",
     "text": [
      "BR01_11_10_lista_20220904_112647.csv\n",
      "Tabela Consolidada com tamanho final: 850923\n"
     ]
    },
    {
     "name": "stderr",
     "output_type": "stream",
     "text": [
      "C:\\Users\\orochage\\AppData\\Local\\Temp\\1\\ipykernel_17852\\962739780.py:8: FutureWarning: The frame.append method is deprecated and will be removed from pandas in a future version. Use pandas.concat instead.\n",
      "  df_consolidador = df_consolidador.append(df_check, ignore_index=True)\n"
     ]
    },
    {
     "name": "stdout",
     "output_type": "stream",
     "text": [
      "BR01_11_10_lista_20220904_113914.csv\n",
      "Tabela Consolidada com tamanho final: 869013\n"
     ]
    },
    {
     "name": "stderr",
     "output_type": "stream",
     "text": [
      "C:\\Users\\orochage\\AppData\\Local\\Temp\\1\\ipykernel_17852\\962739780.py:8: FutureWarning: The frame.append method is deprecated and will be removed from pandas in a future version. Use pandas.concat instead.\n",
      "  df_consolidador = df_consolidador.append(df_check, ignore_index=True)\n"
     ]
    },
    {
     "name": "stdout",
     "output_type": "stream",
     "text": [
      "BR01_11_10_lista_20220904_115021.csv\n",
      "Tabela Consolidada com tamanho final: 887103\n"
     ]
    },
    {
     "name": "stderr",
     "output_type": "stream",
     "text": [
      "C:\\Users\\orochage\\AppData\\Local\\Temp\\1\\ipykernel_17852\\962739780.py:8: FutureWarning: The frame.append method is deprecated and will be removed from pandas in a future version. Use pandas.concat instead.\n",
      "  df_consolidador = df_consolidador.append(df_check, ignore_index=True)\n"
     ]
    },
    {
     "name": "stdout",
     "output_type": "stream",
     "text": [
      "BR01_11_10_lista_20220904_120151.csv\n",
      "Tabela Consolidada com tamanho final: 905193\n"
     ]
    },
    {
     "name": "stderr",
     "output_type": "stream",
     "text": [
      "C:\\Users\\orochage\\AppData\\Local\\Temp\\1\\ipykernel_17852\\962739780.py:8: FutureWarning: The frame.append method is deprecated and will be removed from pandas in a future version. Use pandas.concat instead.\n",
      "  df_consolidador = df_consolidador.append(df_check, ignore_index=True)\n"
     ]
    },
    {
     "name": "stdout",
     "output_type": "stream",
     "text": [
      "BR01_11_10_lista_20220904_121420.csv\n",
      "Tabela Consolidada com tamanho final: 923283\n"
     ]
    },
    {
     "name": "stderr",
     "output_type": "stream",
     "text": [
      "C:\\Users\\orochage\\AppData\\Local\\Temp\\1\\ipykernel_17852\\962739780.py:8: FutureWarning: The frame.append method is deprecated and will be removed from pandas in a future version. Use pandas.concat instead.\n",
      "  df_consolidador = df_consolidador.append(df_check, ignore_index=True)\n"
     ]
    },
    {
     "name": "stdout",
     "output_type": "stream",
     "text": [
      "BR01_11_10_lista_20220904_122614.csv\n",
      "Tabela Consolidada com tamanho final: 941373\n"
     ]
    },
    {
     "name": "stderr",
     "output_type": "stream",
     "text": [
      "C:\\Users\\orochage\\AppData\\Local\\Temp\\1\\ipykernel_17852\\962739780.py:8: FutureWarning: The frame.append method is deprecated and will be removed from pandas in a future version. Use pandas.concat instead.\n",
      "  df_consolidador = df_consolidador.append(df_check, ignore_index=True)\n"
     ]
    },
    {
     "name": "stdout",
     "output_type": "stream",
     "text": [
      "BR01_11_10_lista_20220904_123807.csv\n",
      "Tabela Consolidada com tamanho final: 959463\n"
     ]
    },
    {
     "name": "stderr",
     "output_type": "stream",
     "text": [
      "C:\\Users\\orochage\\AppData\\Local\\Temp\\1\\ipykernel_17852\\962739780.py:8: FutureWarning: The frame.append method is deprecated and will be removed from pandas in a future version. Use pandas.concat instead.\n",
      "  df_consolidador = df_consolidador.append(df_check, ignore_index=True)\n"
     ]
    },
    {
     "name": "stdout",
     "output_type": "stream",
     "text": [
      "BR01_11_10_lista_20220904_124942.csv\n",
      "Tabela Consolidada com tamanho final: 977553\n"
     ]
    },
    {
     "name": "stderr",
     "output_type": "stream",
     "text": [
      "C:\\Users\\orochage\\AppData\\Local\\Temp\\1\\ipykernel_17852\\962739780.py:8: FutureWarning: The frame.append method is deprecated and will be removed from pandas in a future version. Use pandas.concat instead.\n",
      "  df_consolidador = df_consolidador.append(df_check, ignore_index=True)\n"
     ]
    },
    {
     "name": "stdout",
     "output_type": "stream",
     "text": [
      "BR01_11_10_lista_20220904_125208.csv\n",
      "Tabela Consolidada com tamanho final: 981774\n"
     ]
    },
    {
     "name": "stderr",
     "output_type": "stream",
     "text": [
      "C:\\Users\\orochage\\AppData\\Local\\Temp\\1\\ipykernel_17852\\962739780.py:8: FutureWarning: The frame.append method is deprecated and will be removed from pandas in a future version. Use pandas.concat instead.\n",
      "  df_consolidador = df_consolidador.append(df_check, ignore_index=True)\n"
     ]
    },
    {
     "name": "stdout",
     "output_type": "stream",
     "text": [
      "BR01_12_10_lista_20220904_130350.csv\n",
      "Tabela Consolidada com tamanho final: 999594\n"
     ]
    },
    {
     "name": "stderr",
     "output_type": "stream",
     "text": [
      "C:\\Users\\orochage\\AppData\\Local\\Temp\\1\\ipykernel_17852\\962739780.py:8: FutureWarning: The frame.append method is deprecated and will be removed from pandas in a future version. Use pandas.concat instead.\n",
      "  df_consolidador = df_consolidador.append(df_check, ignore_index=True)\n"
     ]
    },
    {
     "name": "stdout",
     "output_type": "stream",
     "text": [
      "BR01_12_10_lista_20220904_131538.csv\n",
      "Tabela Consolidada com tamanho final: 1017414\n"
     ]
    },
    {
     "name": "stderr",
     "output_type": "stream",
     "text": [
      "C:\\Users\\orochage\\AppData\\Local\\Temp\\1\\ipykernel_17852\\962739780.py:8: FutureWarning: The frame.append method is deprecated and will be removed from pandas in a future version. Use pandas.concat instead.\n",
      "  df_consolidador = df_consolidador.append(df_check, ignore_index=True)\n"
     ]
    },
    {
     "name": "stdout",
     "output_type": "stream",
     "text": [
      "BR01_12_10_lista_20220904_132339.csv\n",
      "Tabela Consolidada com tamanho final: 1029888\n",
      "Finalizada a consolidação.\n",
      "\n"
     ]
    }
   ],
   "source": [
    "append_dados_preco(file_path)"
   ]
  },
  {
   "cell_type": "markdown",
   "metadata": {},
   "source": [
    "### Análise de dados: arquivo reconstruído"
   ]
  },
  {
   "cell_type": "code",
   "execution_count": 5,
   "metadata": {},
   "outputs": [],
   "source": [
    "df_checagem_consolidacao = pd.read_csv(\"reconstruido/pricelist_reconstruída_24102022.csv\",encoding='latin-1', sep=',', header=0)"
   ]
  },
  {
   "cell_type": "markdown",
   "metadata": {},
   "source": [
    "### Checando a descrição do arquivo reconstruído"
   ]
  },
  {
   "cell_type": "code",
   "execution_count": 6,
   "metadata": {},
   "outputs": [
    {
     "name": "stdout",
     "output_type": "stream",
     "text": [
      "<class 'pandas.core.frame.DataFrame'>\n",
      "RangeIndex: 1029888 entries, 0 to 1029887\n",
      "Data columns (total 75 columns):\n",
      " #   Column                  Non-Null Count    Dtype \n",
      "---  ------                  --------------    ----- \n",
      " 0   Unnamed: 0              1029888 non-null  int64 \n",
      " 1   Descricao NÃ³           1027452 non-null  object\n",
      " 2   Dt Vigencia             1029888 non-null  object\n",
      " 3   Dt Emitida              1029888 non-null  object\n",
      " 4   Emissor Id              1029888 non-null  int64 \n",
      " 5   Emissor Name            1029888 non-null  object\n",
      " 6   CD                      1029888 non-null  object\n",
      " 7   Destino                 1029888 non-null  object\n",
      " 8   Cond Pagto Id           1029888 non-null  object\n",
      " 9   Cond Pagto Name         1029279 non-null  object\n",
      " 10  Grupo ST                1029888 non-null  object\n",
      " 11  Cliente Ativo           1029888 non-null  object\n",
      " 12  Bloqueio Credito        1029888 non-null  object\n",
      " 13  Produto                 1029888 non-null  int64 \n",
      " 14  EAN                     1029888 non-null  int64 \n",
      " 15  DescriÃ§Ã£o do Produto  1029888 non-null  object\n",
      " 16  Franquia                1028186 non-null  object\n",
      " 17  FamÃ­lia                1028186 non-null  object\n",
      " 18  Unidades                1029888 non-null  int64 \n",
      " 19  PR00                    1029888 non-null  object\n",
      " 20  ICMS+PIS+Cof            1029888 non-null  object\n",
      " 21  Encargo Fina            1029888 non-null  object\n",
      " 22  Sub Encargo             1029888 non-null  object\n",
      " 23  AjusteGross1            1029888 non-null  object\n",
      " 24  %ZW01/44                1029888 non-null  object\n",
      " 25  LogÃ­stica              1029888 non-null  object\n",
      " 26  %ZW04                   1029888 non-null  object\n",
      " 27  DATA&INSIGHT            1029888 non-null  object\n",
      " 28  %ZW06                   1029888 non-null  object\n",
      " 29  Slob                    1029888 non-null  object\n",
      " 30  %ZW07                   1029888 non-null  object\n",
      " 31  Promo Temp.             1029888 non-null  object\n",
      " 32  %ZW08                   1029888 non-null  object\n",
      " 33  Canal Margem            1029888 non-null  object\n",
      " 34  %ZW15                   1029888 non-null  object\n",
      " 35  EDLP                    1029888 non-null  object\n",
      " 36  %ZW16                   1029888 non-null  object\n",
      " 37  NÃ£o DevoluÃ§           1029888 non-null  object\n",
      " 38  %ZW34                   1029888 non-null  object\n",
      " 39  Canal LogÃ­st.          1029888 non-null  object\n",
      " 40  %ZW35                   1029888 non-null  object\n",
      " 41  Aj.Gross2               1029888 non-null  object\n",
      " 42  %ZW37                   1029888 non-null  object\n",
      " 43  Aj. AD                  1029888 non-null  object\n",
      " 44  %ZW38                   1029888 non-null  object\n",
      " 45  Performan               1029888 non-null  object\n",
      " 46  %ZW40                   1029888 non-null  object\n",
      " 47  Margem 2                1029888 non-null  object\n",
      " 48  %ZW41                   1029888 non-null  object\n",
      " 49  Desconto S              1029888 non-null  object\n",
      " 50  %ZW42                   1029888 non-null  object\n",
      " 51  Desconto C              1029888 non-null  object\n",
      " 52  %ZW43                   1029888 non-null  object\n",
      " 53  Trade Price             1029888 non-null  object\n",
      " 54  % Aliq. ICMS            1029888 non-null  object\n",
      " 55  Valor ICMS              1029888 non-null  object\n",
      " 56  PreÃ§o Caixa            1029888 non-null  object\n",
      " 57  % Aliq. IPI             1029888 non-null  object\n",
      " 58  Valor IPI               1029888 non-null  object\n",
      " 59  Valor do PM             1029888 non-null  object\n",
      " 60  Sub.TributÃ¡r           1029888 non-null  object\n",
      " 61  PreÃ§o Unit.            1029888 non-null  object\n",
      " 62  Pr.unit.list            1029888 non-null  object\n",
      " 63  PreÃ§o Total            1029888 non-null  object\n",
      " 64  Clas. Fiscal            1029888 non-null  object\n",
      " 65  DUN                     1029888 non-null  int64 \n",
      " 66  %Basered1               1029888 non-null  object\n",
      " 67  %Basered2ST             1029888 non-null  object\n",
      " 68  %Red.ICM                1029888 non-null  object\n",
      " 69  %RBase ICMS             1029888 non-null  object\n",
      " 70  %PIS                    1029888 non-null  object\n",
      " 71  %COFINS                 1029888 non-null  object\n",
      " 72  %EncFinac               1029888 non-null  object\n",
      " 73  Descricao c             1029279 non-null  object\n",
      " 74  CEST                    1026484 non-null  object\n",
      "dtypes: int64(6), object(69)\n",
      "memory usage: 589.3+ MB\n"
     ]
    }
   ],
   "source": [
    "df_checagem_consolidacao.info()"
   ]
  },
  {
   "cell_type": "code",
   "execution_count": 8,
   "metadata": {},
   "outputs": [
    {
     "data": {
      "text/html": [
       "<div>\n",
       "<style scoped>\n",
       "    .dataframe tbody tr th:only-of-type {\n",
       "        vertical-align: middle;\n",
       "    }\n",
       "\n",
       "    .dataframe tbody tr th {\n",
       "        vertical-align: top;\n",
       "    }\n",
       "\n",
       "    .dataframe thead th {\n",
       "        text-align: right;\n",
       "    }\n",
       "</style>\n",
       "<table border=\"1\" class=\"dataframe\">\n",
       "  <thead>\n",
       "    <tr style=\"text-align: right;\">\n",
       "      <th></th>\n",
       "      <th>count</th>\n",
       "      <th>mean</th>\n",
       "      <th>std</th>\n",
       "      <th>min</th>\n",
       "      <th>25%</th>\n",
       "      <th>50%</th>\n",
       "      <th>75%</th>\n",
       "      <th>max</th>\n",
       "    </tr>\n",
       "  </thead>\n",
       "  <tbody>\n",
       "    <tr>\n",
       "      <th>Unnamed: 0</th>\n",
       "      <td>1029888.0</td>\n",
       "      <td>5.149435e+05</td>\n",
       "      <td>2.973032e+05</td>\n",
       "      <td>0.000000e+00</td>\n",
       "      <td>2.574718e+05</td>\n",
       "      <td>5.149435e+05</td>\n",
       "      <td>7.724152e+05</td>\n",
       "      <td>1.029887e+06</td>\n",
       "    </tr>\n",
       "    <tr>\n",
       "      <th>Emissor Id</th>\n",
       "      <td>1029888.0</td>\n",
       "      <td>1.756461e+05</td>\n",
       "      <td>3.551624e+04</td>\n",
       "      <td>1.035110e+05</td>\n",
       "      <td>1.550010e+05</td>\n",
       "      <td>1.834370e+05</td>\n",
       "      <td>2.072250e+05</td>\n",
       "      <td>2.207160e+05</td>\n",
       "    </tr>\n",
       "    <tr>\n",
       "      <th>Produto</th>\n",
       "      <td>1029888.0</td>\n",
       "      <td>5.131925e+05</td>\n",
       "      <td>1.107857e+05</td>\n",
       "      <td>2.886000e+03</td>\n",
       "      <td>5.358340e+05</td>\n",
       "      <td>5.433470e+05</td>\n",
       "      <td>5.562910e+05</td>\n",
       "      <td>5.717830e+05</td>\n",
       "    </tr>\n",
       "    <tr>\n",
       "      <th>EAN</th>\n",
       "      <td>1029888.0</td>\n",
       "      <td>7.633891e+12</td>\n",
       "      <td>1.320985e+12</td>\n",
       "      <td>7.050105e+10</td>\n",
       "      <td>7.891010e+12</td>\n",
       "      <td>7.891010e+12</td>\n",
       "      <td>7.891011e+12</td>\n",
       "      <td>7.896212e+12</td>\n",
       "    </tr>\n",
       "    <tr>\n",
       "      <th>Unidades</th>\n",
       "      <td>1029888.0</td>\n",
       "      <td>1.916169e+01</td>\n",
       "      <td>2.607173e+01</td>\n",
       "      <td>6.000000e+00</td>\n",
       "      <td>6.000000e+00</td>\n",
       "      <td>1.200000e+01</td>\n",
       "      <td>2.400000e+01</td>\n",
       "      <td>2.880000e+02</td>\n",
       "    </tr>\n",
       "    <tr>\n",
       "      <th>DUN</th>\n",
       "      <td>1029888.0</td>\n",
       "      <td>1.794481e+13</td>\n",
       "      <td>3.060293e+12</td>\n",
       "      <td>7.891011e+12</td>\n",
       "      <td>1.789101e+13</td>\n",
       "      <td>1.789101e+13</td>\n",
       "      <td>1.789101e+13</td>\n",
       "      <td>8.789101e+13</td>\n",
       "    </tr>\n",
       "  </tbody>\n",
       "</table>\n",
       "</div>"
      ],
      "text/plain": [
       "                count          mean           std           min           25%  \\\n",
       "Unnamed: 0  1029888.0  5.149435e+05  2.973032e+05  0.000000e+00  2.574718e+05   \n",
       "Emissor Id  1029888.0  1.756461e+05  3.551624e+04  1.035110e+05  1.550010e+05   \n",
       "Produto     1029888.0  5.131925e+05  1.107857e+05  2.886000e+03  5.358340e+05   \n",
       "EAN         1029888.0  7.633891e+12  1.320985e+12  7.050105e+10  7.891010e+12   \n",
       "Unidades    1029888.0  1.916169e+01  2.607173e+01  6.000000e+00  6.000000e+00   \n",
       "DUN         1029888.0  1.794481e+13  3.060293e+12  7.891011e+12  1.789101e+13   \n",
       "\n",
       "                     50%           75%           max  \n",
       "Unnamed: 0  5.149435e+05  7.724152e+05  1.029887e+06  \n",
       "Emissor Id  1.834370e+05  2.072250e+05  2.207160e+05  \n",
       "Produto     5.433470e+05  5.562910e+05  5.717830e+05  \n",
       "EAN         7.891010e+12  7.891011e+12  7.896212e+12  \n",
       "Unidades    1.200000e+01  2.400000e+01  2.880000e+02  \n",
       "DUN         1.789101e+13  1.789101e+13  8.789101e+13  "
      ]
     },
     "execution_count": 8,
     "metadata": {},
     "output_type": "execute_result"
    }
   ],
   "source": [
    "df_checagem_consolidacao.describe().transpose()"
   ]
  },
  {
   "cell_type": "markdown",
   "metadata": {},
   "source": [
    "### Ajustando Formatação de campos que serão checados (Emissor Id e Produto)"
   ]
  },
  {
   "cell_type": "code",
   "execution_count": 9,
   "metadata": {},
   "outputs": [
    {
     "name": "stdout",
     "output_type": "stream",
     "text": [
      "<class 'pandas.core.frame.DataFrame'>\n",
      "RangeIndex: 1029888 entries, 0 to 1029887\n",
      "Data columns (total 75 columns):\n",
      " #   Column                  Non-Null Count    Dtype \n",
      "---  ------                  --------------    ----- \n",
      " 0   Unnamed: 0              1029888 non-null  int64 \n",
      " 1   Descricao NÃ³           1027452 non-null  object\n",
      " 2   Dt Vigencia             1029888 non-null  object\n",
      " 3   Dt Emitida              1029888 non-null  object\n",
      " 4   Emissor Id              1029888 non-null  object\n",
      " 5   Emissor Name            1029888 non-null  object\n",
      " 6   CD                      1029888 non-null  object\n",
      " 7   Destino                 1029888 non-null  object\n",
      " 8   Cond Pagto Id           1029888 non-null  object\n",
      " 9   Cond Pagto Name         1029279 non-null  object\n",
      " 10  Grupo ST                1029888 non-null  object\n",
      " 11  Cliente Ativo           1029888 non-null  object\n",
      " 12  Bloqueio Credito        1029888 non-null  object\n",
      " 13  Produto                 1029888 non-null  object\n",
      " 14  EAN                     1029888 non-null  int64 \n",
      " 15  DescriÃ§Ã£o do Produto  1029888 non-null  object\n",
      " 16  Franquia                1028186 non-null  object\n",
      " 17  FamÃ­lia                1028186 non-null  object\n",
      " 18  Unidades                1029888 non-null  int64 \n",
      " 19  PR00                    1029888 non-null  object\n",
      " 20  ICMS+PIS+Cof            1029888 non-null  object\n",
      " 21  Encargo Fina            1029888 non-null  object\n",
      " 22  Sub Encargo             1029888 non-null  object\n",
      " 23  AjusteGross1            1029888 non-null  object\n",
      " 24  %ZW01/44                1029888 non-null  object\n",
      " 25  LogÃ­stica              1029888 non-null  object\n",
      " 26  %ZW04                   1029888 non-null  object\n",
      " 27  DATA&INSIGHT            1029888 non-null  object\n",
      " 28  %ZW06                   1029888 non-null  object\n",
      " 29  Slob                    1029888 non-null  object\n",
      " 30  %ZW07                   1029888 non-null  object\n",
      " 31  Promo Temp.             1029888 non-null  object\n",
      " 32  %ZW08                   1029888 non-null  object\n",
      " 33  Canal Margem            1029888 non-null  object\n",
      " 34  %ZW15                   1029888 non-null  object\n",
      " 35  EDLP                    1029888 non-null  object\n",
      " 36  %ZW16                   1029888 non-null  object\n",
      " 37  NÃ£o DevoluÃ§           1029888 non-null  object\n",
      " 38  %ZW34                   1029888 non-null  object\n",
      " 39  Canal LogÃ­st.          1029888 non-null  object\n",
      " 40  %ZW35                   1029888 non-null  object\n",
      " 41  Aj.Gross2               1029888 non-null  object\n",
      " 42  %ZW37                   1029888 non-null  object\n",
      " 43  Aj. AD                  1029888 non-null  object\n",
      " 44  %ZW38                   1029888 non-null  object\n",
      " 45  Performan               1029888 non-null  object\n",
      " 46  %ZW40                   1029888 non-null  object\n",
      " 47  Margem 2                1029888 non-null  object\n",
      " 48  %ZW41                   1029888 non-null  object\n",
      " 49  Desconto S              1029888 non-null  object\n",
      " 50  %ZW42                   1029888 non-null  object\n",
      " 51  Desconto C              1029888 non-null  object\n",
      " 52  %ZW43                   1029888 non-null  object\n",
      " 53  Trade Price             1029888 non-null  object\n",
      " 54  % Aliq. ICMS            1029888 non-null  object\n",
      " 55  Valor ICMS              1029888 non-null  object\n",
      " 56  PreÃ§o Caixa            1029888 non-null  object\n",
      " 57  % Aliq. IPI             1029888 non-null  object\n",
      " 58  Valor IPI               1029888 non-null  object\n",
      " 59  Valor do PM             1029888 non-null  object\n",
      " 60  Sub.TributÃ¡r           1029888 non-null  object\n",
      " 61  PreÃ§o Unit.            1029888 non-null  object\n",
      " 62  Pr.unit.list            1029888 non-null  object\n",
      " 63  PreÃ§o Total            1029888 non-null  object\n",
      " 64  Clas. Fiscal            1029888 non-null  object\n",
      " 65  DUN                     1029888 non-null  int64 \n",
      " 66  %Basered1               1029888 non-null  object\n",
      " 67  %Basered2ST             1029888 non-null  object\n",
      " 68  %Red.ICM                1029888 non-null  object\n",
      " 69  %RBase ICMS             1029888 non-null  object\n",
      " 70  %PIS                    1029888 non-null  object\n",
      " 71  %COFINS                 1029888 non-null  object\n",
      " 72  %EncFinac               1029888 non-null  object\n",
      " 73  Descricao c             1029279 non-null  object\n",
      " 74  CEST                    1026484 non-null  object\n",
      "dtypes: int64(4), object(71)\n",
      "memory usage: 589.3+ MB\n"
     ]
    },
    {
     "data": {
      "text/html": [
       "<div>\n",
       "<style scoped>\n",
       "    .dataframe tbody tr th:only-of-type {\n",
       "        vertical-align: middle;\n",
       "    }\n",
       "\n",
       "    .dataframe tbody tr th {\n",
       "        vertical-align: top;\n",
       "    }\n",
       "\n",
       "    .dataframe thead th {\n",
       "        text-align: right;\n",
       "    }\n",
       "</style>\n",
       "<table border=\"1\" class=\"dataframe\">\n",
       "  <thead>\n",
       "    <tr style=\"text-align: right;\">\n",
       "      <th></th>\n",
       "      <th>Unnamed: 0</th>\n",
       "      <th>Descricao NÃ³</th>\n",
       "      <th>Dt Vigencia</th>\n",
       "      <th>Dt Emitida</th>\n",
       "      <th>Emissor Id</th>\n",
       "      <th>Emissor Name</th>\n",
       "      <th>CD</th>\n",
       "      <th>Destino</th>\n",
       "      <th>Cond Pagto Id</th>\n",
       "      <th>Cond Pagto Name</th>\n",
       "      <th>...</th>\n",
       "      <th>DUN</th>\n",
       "      <th>%Basered1</th>\n",
       "      <th>%Basered2ST</th>\n",
       "      <th>%Red.ICM</th>\n",
       "      <th>%RBase ICMS</th>\n",
       "      <th>%PIS</th>\n",
       "      <th>%COFINS</th>\n",
       "      <th>%EncFinac</th>\n",
       "      <th>Descricao c</th>\n",
       "      <th>CEST</th>\n",
       "    </tr>\n",
       "  </thead>\n",
       "  <tbody>\n",
       "    <tr>\n",
       "      <th>0</th>\n",
       "      <td>0</td>\n",
       "      <td>GRUPO CARREFOUR BRASIL</td>\n",
       "      <td>03.09.2022</td>\n",
       "      <td>03.09.2022</td>\n",
       "      <td>103511</td>\n",
       "      <td>SUPERMERCADOS PLANALTO LTDA</td>\n",
       "      <td>BR06</td>\n",
       "      <td>DF</td>\n",
       "      <td>Z518</td>\n",
       "      <td>28 Dias Liquido da Data Fatura</td>\n",
       "      <td>...</td>\n",
       "      <td>17891010805309</td>\n",
       "      <td>0,00</td>\n",
       "      <td>0,00</td>\n",
       "      <td>0,00</td>\n",
       "      <td>0,00</td>\n",
       "      <td>0,00</td>\n",
       "      <td>0,00</td>\n",
       "      <td>0,000</td>\n",
       "      <td>28 Dias Liquido da Data Fatura</td>\n",
       "      <td>20.015.00</td>\n",
       "    </tr>\n",
       "    <tr>\n",
       "      <th>1</th>\n",
       "      <td>1</td>\n",
       "      <td>GRUPO CARREFOUR BRASIL</td>\n",
       "      <td>03.09.2022</td>\n",
       "      <td>03.09.2022</td>\n",
       "      <td>103511</td>\n",
       "      <td>SUPERMERCADOS PLANALTO LTDA</td>\n",
       "      <td>BR06</td>\n",
       "      <td>DF</td>\n",
       "      <td>Z518</td>\n",
       "      <td>28 Dias Liquido da Data Fatura</td>\n",
       "      <td>...</td>\n",
       "      <td>17896212479921</td>\n",
       "      <td>0,00</td>\n",
       "      <td>0,00</td>\n",
       "      <td>0,00</td>\n",
       "      <td>0,00</td>\n",
       "      <td>0,00</td>\n",
       "      <td>0,00</td>\n",
       "      <td>0,000</td>\n",
       "      <td>28 Dias Liquido da Data Fatura</td>\n",
       "      <td>13.001.01</td>\n",
       "    </tr>\n",
       "    <tr>\n",
       "      <th>2</th>\n",
       "      <td>2</td>\n",
       "      <td>GRUPO CARREFOUR BRASIL</td>\n",
       "      <td>03.09.2022</td>\n",
       "      <td>03.09.2022</td>\n",
       "      <td>103511</td>\n",
       "      <td>SUPERMERCADOS PLANALTO LTDA</td>\n",
       "      <td>BR06</td>\n",
       "      <td>DF</td>\n",
       "      <td>Z518</td>\n",
       "      <td>28 Dias Liquido da Data Fatura</td>\n",
       "      <td>...</td>\n",
       "      <td>17896212428868</td>\n",
       "      <td>0,00</td>\n",
       "      <td>0,00</td>\n",
       "      <td>0,00</td>\n",
       "      <td>0,00</td>\n",
       "      <td>0,00</td>\n",
       "      <td>0,00</td>\n",
       "      <td>0,000</td>\n",
       "      <td>28 Dias Liquido da Data Fatura</td>\n",
       "      <td>13.001.01</td>\n",
       "    </tr>\n",
       "    <tr>\n",
       "      <th>3</th>\n",
       "      <td>3</td>\n",
       "      <td>GRUPO SUPERMERCADO MOREIRA LTDA</td>\n",
       "      <td>03.09.2022</td>\n",
       "      <td>03.09.2022</td>\n",
       "      <td>103571</td>\n",
       "      <td>SUPERMERCADO MOREIRA LTDA</td>\n",
       "      <td>BR25</td>\n",
       "      <td>GO</td>\n",
       "      <td>Z522</td>\n",
       "      <td>35 Dias Liquido da Data Fatura</td>\n",
       "      <td>...</td>\n",
       "      <td>17891010254152</td>\n",
       "      <td>0,00</td>\n",
       "      <td>0,00</td>\n",
       "      <td>0,00</td>\n",
       "      <td>41,67</td>\n",
       "      <td>1,65</td>\n",
       "      <td>7,60</td>\n",
       "      <td>0,000</td>\n",
       "      <td>35 Dias Liquido da Data Fatura</td>\n",
       "      <td>20.050.00</td>\n",
       "    </tr>\n",
       "    <tr>\n",
       "      <th>4</th>\n",
       "      <td>4</td>\n",
       "      <td>GRUPO SUPERMERCADO MOREIRA LTDA</td>\n",
       "      <td>03.09.2022</td>\n",
       "      <td>03.09.2022</td>\n",
       "      <td>103571</td>\n",
       "      <td>SUPERMERCADO MOREIRA LTDA</td>\n",
       "      <td>BR25</td>\n",
       "      <td>GO</td>\n",
       "      <td>Z522</td>\n",
       "      <td>35 Dias Liquido da Data Fatura</td>\n",
       "      <td>...</td>\n",
       "      <td>17891010704787</td>\n",
       "      <td>0,00</td>\n",
       "      <td>0,00</td>\n",
       "      <td>0,00</td>\n",
       "      <td>41,67</td>\n",
       "      <td>1,65</td>\n",
       "      <td>7,60</td>\n",
       "      <td>0,000</td>\n",
       "      <td>35 Dias Liquido da Data Fatura</td>\n",
       "      <td>20.050.00</td>\n",
       "    </tr>\n",
       "  </tbody>\n",
       "</table>\n",
       "<p>5 rows × 75 columns</p>\n",
       "</div>"
      ],
      "text/plain": [
       "   Unnamed: 0                    Descricao NÃ³ Dt Vigencia  Dt Emitida  \\\n",
       "0           0           GRUPO CARREFOUR BRASIL  03.09.2022  03.09.2022   \n",
       "1           1           GRUPO CARREFOUR BRASIL  03.09.2022  03.09.2022   \n",
       "2           2           GRUPO CARREFOUR BRASIL  03.09.2022  03.09.2022   \n",
       "3           3  GRUPO SUPERMERCADO MOREIRA LTDA  03.09.2022  03.09.2022   \n",
       "4           4  GRUPO SUPERMERCADO MOREIRA LTDA  03.09.2022  03.09.2022   \n",
       "\n",
       "  Emissor Id                 Emissor Name    CD Destino Cond Pagto Id  \\\n",
       "0     103511  SUPERMERCADOS PLANALTO LTDA  BR06      DF          Z518   \n",
       "1     103511  SUPERMERCADOS PLANALTO LTDA  BR06      DF          Z518   \n",
       "2     103511  SUPERMERCADOS PLANALTO LTDA  BR06      DF          Z518   \n",
       "3     103571    SUPERMERCADO MOREIRA LTDA  BR25      GO          Z522   \n",
       "4     103571    SUPERMERCADO MOREIRA LTDA  BR25      GO          Z522   \n",
       "\n",
       "                  Cond Pagto Name  ...             DUN %Basered1 %Basered2ST  \\\n",
       "0  28 Dias Liquido da Data Fatura  ...  17891010805309      0,00        0,00   \n",
       "1  28 Dias Liquido da Data Fatura  ...  17896212479921      0,00        0,00   \n",
       "2  28 Dias Liquido da Data Fatura  ...  17896212428868      0,00        0,00   \n",
       "3  35 Dias Liquido da Data Fatura  ...  17891010254152      0,00        0,00   \n",
       "4  35 Dias Liquido da Data Fatura  ...  17891010704787      0,00        0,00   \n",
       "\n",
       "  %Red.ICM  %RBase ICMS  %PIS %COFINS %EncFinac  \\\n",
       "0     0,00         0,00  0,00    0,00     0,000   \n",
       "1     0,00         0,00  0,00    0,00     0,000   \n",
       "2     0,00         0,00  0,00    0,00     0,000   \n",
       "3     0,00        41,67  1,65    7,60     0,000   \n",
       "4     0,00        41,67  1,65    7,60     0,000   \n",
       "\n",
       "                      Descricao c       CEST  \n",
       "0  28 Dias Liquido da Data Fatura  20.015.00  \n",
       "1  28 Dias Liquido da Data Fatura  13.001.01  \n",
       "2  28 Dias Liquido da Data Fatura  13.001.01  \n",
       "3  35 Dias Liquido da Data Fatura  20.050.00  \n",
       "4  35 Dias Liquido da Data Fatura  20.050.00  \n",
       "\n",
       "[5 rows x 75 columns]"
      ]
     },
     "execution_count": 9,
     "metadata": {},
     "output_type": "execute_result"
    }
   ],
   "source": [
    "\n",
    "df_checagem_consolidacao['Emissor Id'] = df_checagem_consolidacao['Emissor Id'].astype(str)\n",
    "df_checagem_consolidacao['Produto'] = df_checagem_consolidacao['Produto'].astype(str)\n",
    "df_checagem_consolidacao.info()\n",
    "df_checagem_consolidacao.head()"
   ]
  },
  {
   "cell_type": "markdown",
   "metadata": {},
   "source": [
    "#### Teste unitário\n",
    "Emissor ID : '217853','217697','221220','217852','217696','217854','220687','221221'\n",
    "\n",
    "Material (Produto) : 543169\n"
   ]
  },
  {
   "cell_type": "code",
   "execution_count": 10,
   "metadata": {},
   "outputs": [],
   "source": [
    "## Caso escalar, colocar um método para inputar dados de cliente emissor e produto\n",
    "## Inserir uma lista de emissores e produtos\n",
    "EmissorCheck = ['208699','191732']\n",
    "ProdutoCheck = ['539902']"
   ]
  },
  {
   "cell_type": "code",
   "execution_count": 11,
   "metadata": {},
   "outputs": [
    {
     "data": {
      "text/html": [
       "<div>\n",
       "<style scoped>\n",
       "    .dataframe tbody tr th:only-of-type {\n",
       "        vertical-align: middle;\n",
       "    }\n",
       "\n",
       "    .dataframe tbody tr th {\n",
       "        vertical-align: top;\n",
       "    }\n",
       "\n",
       "    .dataframe thead th {\n",
       "        text-align: right;\n",
       "    }\n",
       "</style>\n",
       "<table border=\"1\" class=\"dataframe\">\n",
       "  <thead>\n",
       "    <tr style=\"text-align: right;\">\n",
       "      <th></th>\n",
       "      <th>Emissor Id</th>\n",
       "      <th>Produto</th>\n",
       "      <th>Emissor Encontrado</th>\n",
       "      <th>Produto Encontrado</th>\n",
       "    </tr>\n",
       "  </thead>\n",
       "  <tbody>\n",
       "    <tr>\n",
       "      <th>0</th>\n",
       "      <td>208699</td>\n",
       "      <td>539902</td>\n",
       "      <td>False</td>\n",
       "      <td>False</td>\n",
       "    </tr>\n",
       "    <tr>\n",
       "      <th>1</th>\n",
       "      <td>191732</td>\n",
       "      <td>539902</td>\n",
       "      <td>False</td>\n",
       "      <td>False</td>\n",
       "    </tr>\n",
       "  </tbody>\n",
       "</table>\n",
       "</div>"
      ],
      "text/plain": [
       "  Emissor Id Produto  Emissor Encontrado  Produto Encontrado\n",
       "0     208699  539902               False               False\n",
       "1     191732  539902               False               False"
      ]
     },
     "execution_count": 11,
     "metadata": {},
     "output_type": "execute_result"
    }
   ],
   "source": [
    "\n",
    "\n",
    "# create a cartesian product of the two lists EmissorCheck and ProdutoCheck\n",
    "resultado_df = pd.DataFrame(list(itertools.product(EmissorCheck, ProdutoCheck)), columns=['Emissor Id', 'Produto'])\n",
    "resultado_df['Emissor Encontrado'] = False\n",
    "resultado_df['Produto Encontrado'] = False\n",
    "resultado_df['Produto'] = resultado_df['Produto'].astype(str)\n",
    "resultado_df.head()"
   ]
  },
  {
   "cell_type": "markdown",
   "metadata": {},
   "source": [
    "##### Lista com produto cartesiano de checagem, valores default como falso\n",
    "###### Caso encontre valores a partir do método abaixo, fará o set da flag como True"
   ]
  },
  {
   "cell_type": "code",
   "execution_count": 12,
   "metadata": {},
   "outputs": [],
   "source": [
    "def check_emissor_produto(df_checagem_consolidacao, resultado_df):\n",
    "    for index, row in resultado_df.iterrows():\n",
    "        if row['Emissor Id'] in df_checagem_consolidacao['Emissor Id'].values:\n",
    "            resultado_df.loc[index, 'Emissor Encontrado'] = True\n",
    "        if row['Produto'] in df_checagem_consolidacao['Produto'].values and row['Emissor Id'] in df_checagem_consolidacao['Emissor Id'].values:\n",
    "            resultado_df.loc[index, 'Produto Encontrado'] = True\n",
    "    return resultado_df"
   ]
  },
  {
   "cell_type": "code",
   "execution_count": 13,
   "metadata": {},
   "outputs": [
    {
     "data": {
      "text/html": [
       "<div>\n",
       "<style scoped>\n",
       "    .dataframe tbody tr th:only-of-type {\n",
       "        vertical-align: middle;\n",
       "    }\n",
       "\n",
       "    .dataframe tbody tr th {\n",
       "        vertical-align: top;\n",
       "    }\n",
       "\n",
       "    .dataframe thead th {\n",
       "        text-align: right;\n",
       "    }\n",
       "</style>\n",
       "<table border=\"1\" class=\"dataframe\">\n",
       "  <thead>\n",
       "    <tr style=\"text-align: right;\">\n",
       "      <th></th>\n",
       "      <th>Emissor Id</th>\n",
       "      <th>Produto</th>\n",
       "      <th>Emissor Encontrado</th>\n",
       "      <th>Produto Encontrado</th>\n",
       "    </tr>\n",
       "  </thead>\n",
       "  <tbody>\n",
       "    <tr>\n",
       "      <th>0</th>\n",
       "      <td>208699</td>\n",
       "      <td>539902</td>\n",
       "      <td>True</td>\n",
       "      <td>True</td>\n",
       "    </tr>\n",
       "    <tr>\n",
       "      <th>1</th>\n",
       "      <td>191732</td>\n",
       "      <td>539902</td>\n",
       "      <td>True</td>\n",
       "      <td>True</td>\n",
       "    </tr>\n",
       "  </tbody>\n",
       "</table>\n",
       "</div>"
      ],
      "text/plain": [
       "  Emissor Id Produto  Emissor Encontrado  Produto Encontrado\n",
       "0     208699  539902                True                True\n",
       "1     191732  539902                True                True"
      ]
     },
     "execution_count": 13,
     "metadata": {},
     "output_type": "execute_result"
    }
   ],
   "source": [
    "check_emissor_produto(df_checagem_consolidacao, resultado_df)"
   ]
  },
  {
   "cell_type": "markdown",
   "metadata": {},
   "source": [
    "#### Sanity Check: Checagem de sanidade do valor que buscávamos"
   ]
  },
  {
   "cell_type": "code",
   "execution_count": 16,
   "metadata": {},
   "outputs": [
    {
     "data": {
      "text/html": [
       "<div>\n",
       "<style scoped>\n",
       "    .dataframe tbody tr th:only-of-type {\n",
       "        vertical-align: middle;\n",
       "    }\n",
       "\n",
       "    .dataframe tbody tr th {\n",
       "        vertical-align: top;\n",
       "    }\n",
       "\n",
       "    .dataframe thead th {\n",
       "        text-align: right;\n",
       "    }\n",
       "</style>\n",
       "<table border=\"1\" class=\"dataframe\">\n",
       "  <thead>\n",
       "    <tr style=\"text-align: right;\">\n",
       "      <th></th>\n",
       "      <th>Unnamed: 0</th>\n",
       "      <th>Descricao NÃ³</th>\n",
       "      <th>Dt Vigencia</th>\n",
       "      <th>Dt Emitida</th>\n",
       "      <th>Emissor Id</th>\n",
       "      <th>Emissor Name</th>\n",
       "      <th>CD</th>\n",
       "      <th>Destino</th>\n",
       "      <th>Cond Pagto Id</th>\n",
       "      <th>Cond Pagto Name</th>\n",
       "      <th>...</th>\n",
       "      <th>DUN</th>\n",
       "      <th>%Basered1</th>\n",
       "      <th>%Basered2ST</th>\n",
       "      <th>%Red.ICM</th>\n",
       "      <th>%RBase ICMS</th>\n",
       "      <th>%PIS</th>\n",
       "      <th>%COFINS</th>\n",
       "      <th>%EncFinac</th>\n",
       "      <th>Descricao c</th>\n",
       "      <th>CEST</th>\n",
       "    </tr>\n",
       "  </thead>\n",
       "  <tbody>\n",
       "    <tr>\n",
       "      <th>295744</th>\n",
       "      <td>295744</td>\n",
       "      <td>GRUPO JAD ZOGHEIB E CIA LTDA</td>\n",
       "      <td>03.09.2022</td>\n",
       "      <td>04.09.2022</td>\n",
       "      <td>191732</td>\n",
       "      <td>JAD ZOGHEIB &amp; CIA LTDA</td>\n",
       "      <td>BR19</td>\n",
       "      <td>SP</td>\n",
       "      <td>Z522</td>\n",
       "      <td>35 Dias Liquido da Data Fatura</td>\n",
       "      <td>...</td>\n",
       "      <td>17891010517516</td>\n",
       "      <td>0,00</td>\n",
       "      <td>0,00</td>\n",
       "      <td>0,00</td>\n",
       "      <td>0,00</td>\n",
       "      <td>0,00</td>\n",
       "      <td>0,00</td>\n",
       "      <td>0,000</td>\n",
       "      <td>90 Dias Liquido</td>\n",
       "      <td>20.016.00</td>\n",
       "    </tr>\n",
       "  </tbody>\n",
       "</table>\n",
       "<p>1 rows × 75 columns</p>\n",
       "</div>"
      ],
      "text/plain": [
       "        Unnamed: 0                 Descricao NÃ³ Dt Vigencia  Dt Emitida  \\\n",
       "295744      295744  GRUPO JAD ZOGHEIB E CIA LTDA  03.09.2022  04.09.2022   \n",
       "\n",
       "       Emissor Id            Emissor Name    CD Destino Cond Pagto Id  \\\n",
       "295744     191732  JAD ZOGHEIB & CIA LTDA  BR19      SP          Z522   \n",
       "\n",
       "                       Cond Pagto Name  ...             DUN %Basered1  \\\n",
       "295744  35 Dias Liquido da Data Fatura  ...  17891010517516      0,00   \n",
       "\n",
       "       %Basered2ST %Red.ICM  %RBase ICMS  %PIS %COFINS %EncFinac  \\\n",
       "295744        0,00     0,00         0,00  0,00    0,00     0,000   \n",
       "\n",
       "            Descricao c       CEST  \n",
       "295744  90 Dias Liquido  20.016.00  \n",
       "\n",
       "[1 rows x 75 columns]"
      ]
     },
     "execution_count": 16,
     "metadata": {},
     "output_type": "execute_result"
    }
   ],
   "source": [
    "unit_test_df = df_checagem_consolidacao[df_checagem_consolidacao['Emissor Id'] == '191732']\n",
    "unit_test_df = unit_test_df[unit_test_df['Produto'] == '539902']\n",
    "unit_test_df.head()"
   ]
  },
  {
   "cell_type": "code",
   "execution_count": 32,
   "metadata": {},
   "outputs": [
    {
     "data": {
      "text/html": [
       "<div>\n",
       "<style scoped>\n",
       "    .dataframe tbody tr th:only-of-type {\n",
       "        vertical-align: middle;\n",
       "    }\n",
       "\n",
       "    .dataframe tbody tr th {\n",
       "        vertical-align: top;\n",
       "    }\n",
       "\n",
       "    .dataframe thead th {\n",
       "        text-align: right;\n",
       "    }\n",
       "</style>\n",
       "<table border=\"1\" class=\"dataframe\">\n",
       "  <thead>\n",
       "    <tr style=\"text-align: right;\">\n",
       "      <th></th>\n",
       "      <th>Unnamed: 0</th>\n",
       "      <th>Descricao NÃ³</th>\n",
       "      <th>Dt Vigencia</th>\n",
       "      <th>Dt Emitida</th>\n",
       "      <th>Emissor Id</th>\n",
       "      <th>Emissor Name</th>\n",
       "      <th>CD</th>\n",
       "      <th>Destino</th>\n",
       "      <th>Cond Pagto Id</th>\n",
       "      <th>Cond Pagto Name</th>\n",
       "      <th>...</th>\n",
       "      <th>DUN</th>\n",
       "      <th>%Basered1</th>\n",
       "      <th>%Basered2ST</th>\n",
       "      <th>%Red.ICM</th>\n",
       "      <th>%RBase ICMS</th>\n",
       "      <th>%PIS</th>\n",
       "      <th>%COFINS</th>\n",
       "      <th>%EncFinac</th>\n",
       "      <th>Descricao c</th>\n",
       "      <th>CEST</th>\n",
       "    </tr>\n",
       "  </thead>\n",
       "  <tbody>\n",
       "  </tbody>\n",
       "</table>\n",
       "<p>0 rows × 75 columns</p>\n",
       "</div>"
      ],
      "text/plain": [
       "Empty DataFrame\n",
       "Columns: [Unnamed: 0, Descricao NÃ³, Dt Vigencia, Dt Emitida, Emissor Id, Emissor Name, CD, Destino, Cond Pagto Id, Cond Pagto Name, Grupo ST, Cliente Ativo, Bloqueio Credito, Produto, EAN, DescriÃ§Ã£o do Produto, Franquia, FamÃ­lia, Unidades, PR00, ICMS+PIS+Cof, Encargo Fina, Sub Encargo, AjusteGross1, %ZW01/44, LogÃ­stica, %ZW04, DATA&INSIGHT, %ZW06, Slob, %ZW07, Promo Temp., %ZW08, Canal Margem, %ZW15, EDLP, %ZW16, NÃ£o DevoluÃ§, %ZW34, Canal LogÃ­st., %ZW35, Aj.Gross2, %ZW37, Aj. AD, %ZW38, Performan, %ZW40, Margem 2, %ZW41, Desconto S, %ZW42, Desconto C, %ZW43, Trade Price, % Aliq. ICMS, Valor ICMS, PreÃ§o Caixa, % Aliq. IPI, Valor IPI, Valor do PM, Sub.TributÃ¡r, PreÃ§o Unit., Pr.unit.list, PreÃ§o Total, Clas. Fiscal, DUN, %Basered1, %Basered2ST, %Red.ICM, %RBase ICMS, %PIS, %COFINS, %EncFinac, Descricao c, CEST]\n",
       "Index: []\n",
       "\n",
       "[0 rows x 75 columns]"
      ]
     },
     "execution_count": 32,
     "metadata": {},
     "output_type": "execute_result"
    }
   ],
   "source": [
    "unit_test_df = df_checagem_consolidacao[df_checagem_consolidacao['Emissor Id'] == '221220']\n",
    "unit_test_df = unit_test_df[unit_test_df['Produto'] == '543169']\n",
    "unit_test_df.head()"
   ]
  },
  {
   "cell_type": "code",
   "execution_count": 33,
   "metadata": {},
   "outputs": [
    {
     "data": {
      "text/html": [
       "<div>\n",
       "<style scoped>\n",
       "    .dataframe tbody tr th:only-of-type {\n",
       "        vertical-align: middle;\n",
       "    }\n",
       "\n",
       "    .dataframe tbody tr th {\n",
       "        vertical-align: top;\n",
       "    }\n",
       "\n",
       "    .dataframe thead th {\n",
       "        text-align: right;\n",
       "    }\n",
       "</style>\n",
       "<table border=\"1\" class=\"dataframe\">\n",
       "  <thead>\n",
       "    <tr style=\"text-align: right;\">\n",
       "      <th></th>\n",
       "      <th>Emissor Id</th>\n",
       "      <th>Produto</th>\n",
       "      <th>EAN</th>\n",
       "      <th>Cliente Ativo</th>\n",
       "      <th>PR00</th>\n",
       "    </tr>\n",
       "  </thead>\n",
       "  <tbody>\n",
       "    <tr>\n",
       "      <th>425973</th>\n",
       "      <td>217852</td>\n",
       "      <td>543169</td>\n",
       "      <td>7891010576509</td>\n",
       "      <td>Sim</td>\n",
       "      <td>138,07</td>\n",
       "    </tr>\n",
       "    <tr>\n",
       "      <th>685849</th>\n",
       "      <td>217852</td>\n",
       "      <td>543169</td>\n",
       "      <td>7891010576509</td>\n",
       "      <td>Sim</td>\n",
       "      <td>138,07</td>\n",
       "    </tr>\n",
       "  </tbody>\n",
       "</table>\n",
       "</div>"
      ],
      "text/plain": [
       "       Emissor Id Produto            EAN Cliente Ativo    PR00\n",
       "425973     217852  543169  7891010576509           Sim  138,07\n",
       "685849     217852  543169  7891010576509           Sim  138,07"
      ]
     },
     "execution_count": 33,
     "metadata": {},
     "output_type": "execute_result"
    }
   ],
   "source": [
    "unit_test_df = df_checagem_consolidacao[df_checagem_consolidacao['Emissor Id'] == '217852']\n",
    "unit_test_df = unit_test_df[unit_test_df['Produto'] == '543169']\n",
    "final = unit_test_df[['Emissor Id','Produto','EAN','Cliente Ativo','PR00']]\n",
    "final.head()"
   ]
  },
  {
   "cell_type": "code",
   "execution_count": 417,
   "metadata": {},
   "outputs": [],
   "source": []
  },
  {
   "cell_type": "markdown",
   "metadata": {},
   "source": [
    "check presence of EmissorId and Material\n"
   ]
  }
 ],
 "metadata": {
  "interpreter": {
   "hash": "33b0e9316c6efd50044b3cff64466485d6edb27939f04b9517e4b9101aede369"
  },
  "kernelspec": {
   "display_name": "Python 3 (ipykernel)",
   "language": "python",
   "name": "python3"
  },
  "language_info": {
   "codemirror_mode": {
    "name": "ipython",
    "version": 3
   },
   "file_extension": ".py",
   "mimetype": "text/x-python",
   "name": "python",
   "nbconvert_exporter": "python",
   "pygments_lexer": "ipython3",
   "version": "3.8.6"
  }
 },
 "nbformat": 4,
 "nbformat_minor": 2
}
